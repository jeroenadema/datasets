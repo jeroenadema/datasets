{
 "cells": [
  {
   "cell_type": "markdown",
   "metadata": {},
   "source": [
    "# Transformeer data"
   ]
  },
  {
   "cell_type": "markdown",
   "metadata": {},
   "source": [
    "Combineer de data van de Kiesraad met die van Waar Is Mijn Stemlokaal en andere bestanden met postcodes, zodat we latitude en longitude kunnen vinden om te kunnen plotten op een kaartje. Daarna versimplificeren we de data en halen we er alleen de partijen uit die we echt nodig hebben."
   ]
  },
  {
   "cell_type": "code",
   "execution_count": 52,
   "metadata": {},
   "outputs": [],
   "source": [
    "# Data paths\n",
    "DATA_PATH = \"../1-data/ps2019-kiesraad.csv\"\n",
    "WIMS_PATH = \"../1-data/wims.csv\"\n",
    "ZIP_PATH = \"../1-data/dutch-pc6-zipcodes-with-lat-lon.csv\"\n",
    "OUT_PATH = \"../3-pipeline/ps2019-kiesraad-with-locations.csv\"\n",
    "OUT_PATH_TMP = OUT_PATH.replace(\"pipeline/\", \"pipeline/tmp/\")"
   ]
  },
  {
   "cell_type": "markdown",
   "metadata": {},
   "source": [
    "Deze lijst bevat alle partijen die we meenemen in de analyse, op volgorde van het totaal aantal zetels wat ze landelijk gehaald hebben. Tevens zetten we hier de benaming uit de oorspronkelijke Kiesraad-data om naar kortere afkortingen. Er zijn twee lijstcombinaties die we samenvoegen: in Noord-Holland is er 50PLUS/Partij voor de Ouderen, die we optellen bij 50PLUS. ChristenUnie-SGP tellen we op bij zowel CU als de SPG."
   ]
  },
  {
   "cell_type": "code",
   "execution_count": 53,
   "metadata": {},
   "outputs": [],
   "source": [
    "PARTIES = {\n",
    " 'FvD': 'Forum voor Democratie',\n",
    " 'VVD': 'VVD',\n",
    " 'CDA': 'CDA',\n",
    " 'GL': 'GROENLINKS',\n",
    " 'PvdA': 'Partij van de Arbeid (P.v.d.A.)',\n",
    " 'D66': 'Democraten 66 (D66)',\n",
    " 'PVV': 'PVV (Partij voor de Vrijheid)',\n",
    " 'SP': 'SP (Socialistische Partij)',\n",
    " 'CU': ['ChristenUnie', 'ChristenUnie-SGP'],\n",
    " 'PvdD': 'Partij voor de Dieren',\n",
    " '50PLUS': ['50PLUS', '50PLUS/PARTIJ VAN DE OUDEREN'],\n",
    " 'SGP': ['Staatkundig Gereformeerde Partij (SGP)', 'ChristenUnie-SGP'],\n",
    " 'DENK': 'DENK'\n",
    "}"
   ]
  },
  {
   "cell_type": "markdown",
   "metadata": {},
   "source": [
    "Nu kunnen we echt gaan doen. Eerst importeren we alle noodzakelijke modules, daarna schonen we de postcodes op en voegen we de WaarIsMijnStemlokaal data toe."
   ]
  },
  {
   "cell_type": "code",
   "execution_count": 54,
   "metadata": {},
   "outputs": [],
   "source": [
    "from dataknead import Knead\n",
    "import pandas as pd"
   ]
  },
  {
   "cell_type": "code",
   "execution_count": 55,
   "metadata": {},
   "outputs": [],
   "source": [
    "def cleanup(row):\n",
    "    # Remove spaces from zipcodes\n",
    "    row[\"bureau_zip\"] = row[\"bureau_zip\"].replace(\" \", \"\")\n",
    "    return row\n",
    "\n",
    "votes = Knead(DATA_PATH).map(cleanup)"
   ]
  },
  {
   "cell_type": "code",
   "execution_count": 56,
   "metadata": {},
   "outputs": [],
   "source": [
    "# Add WIMS data\n",
    "def parse(row):\n",
    "    # Add Stembureau ID\n",
    "    gemcode = row[\"CBS gemeentecode\"].replace(\"GM\", \"\")\n",
    "    bcode = row[\"Nummer stembureau\"]\n",
    "    row[\"bureau_id\"] = f\"{gemcode}::SB{bcode}\"\n",
    "    return row\n",
    "\n",
    "wims = Knead(WIMS_PATH).map(parse)"
   ]
  },
  {
   "cell_type": "code",
   "execution_count": 57,
   "metadata": {},
   "outputs": [],
   "source": [
    "# Time to combine stuff, first convert wims to a dictionary because it's a lot faster for lookups\n",
    "wims = {i[\"bureau_id\"]:i for i in wims.data()}\n",
    "\n",
    "def combine(row):\n",
    "    bid = row[\"bureau_id\"]\n",
    "\n",
    "    if bid in wims:\n",
    "        item = wims[bid]\n",
    "        \n",
    "        # We found something, always copy lat/lon, even if there's nothing\n",
    "        row[\"bureau_lat\"] = item[\"Latitude\"]\n",
    "        row[\"bureau_lon\"] = item[\"Longitude\"]\n",
    "\n",
    "        # We prefer zips from the original data, but if there's none,\n",
    "        # use WIMS\n",
    "        if row[\"bureau_zip\"] == \"\":\n",
    "            row[\"bureau_zip\"] = item[\"Postcode\"]\n",
    "                \n",
    "    return row\n",
    "\n",
    "votes = votes.map(combine)"
   ]
  },
  {
   "cell_type": "code",
   "execution_count": 58,
   "metadata": {},
   "outputs": [],
   "source": [
    "# Now, for anything that's left, add the lat/lon from the zipdata that we have\n",
    "\n",
    "# First, convert the zips to a dict again\n",
    "zips = {z[\"zip\"]:z for z in Knead(ZIP_PATH).data()}\n",
    "\n",
    "# And now lookup the zips and save to a new file\n",
    "def add_zip(row):\n",
    "    if row.get(\"bureau_lat\", \"\") == \"\":\n",
    "        bzip = row[\"bureau_zip\"]\n",
    "        \n",
    "        if bzip in zips:\n",
    "            row[\"bureau_lat\"] = zips[bzip][\"lat\"]\n",
    "            row[\"bureau_lon\"] = zips[bzip][\"lon\"]\n",
    "            \n",
    "    return row\n",
    "\n",
    "votes = votes.map(add_zip)\n",
    "\n",
    "# Save this file for debugging in the temp folder\n",
    "votes.write(OUT_PATH_TMP)"
   ]
  },
  {
   "cell_type": "markdown",
   "metadata": {},
   "source": [
    "Laad de data en transformeer naar een lijst met zeven waardes: \n",
    "\n",
    "* `label`: het label van het stembureau\n",
    "* `party`: de partij waar op gestemd is\n",
    "* `total_votes`: het totale aantal stemmen op het stembureau\n",
    "* `votes`: het absolute aantal stemmen op de partij.\n",
    "* `bureau_zip`, `bureau_lat` en `bureau_lon` om de data op een kaart te plotten"
   ]
  },
  {
   "cell_type": "code",
   "execution_count": 59,
   "metadata": {},
   "outputs": [
    {
     "data": {
      "text/html": [
       "<div>\n",
       "<style scoped>\n",
       "    .dataframe tbody tr th:only-of-type {\n",
       "        vertical-align: middle;\n",
       "    }\n",
       "\n",
       "    .dataframe tbody tr th {\n",
       "        vertical-align: top;\n",
       "    }\n",
       "\n",
       "    .dataframe thead th {\n",
       "        text-align: right;\n",
       "    }\n",
       "</style>\n",
       "<table border=\"1\" class=\"dataframe\">\n",
       "  <thead>\n",
       "    <tr style=\"text-align: right;\">\n",
       "      <th></th>\n",
       "      <th>bureau_lat</th>\n",
       "      <th>bureau_lon</th>\n",
       "      <th>bureau_zip</th>\n",
       "      <th>label</th>\n",
       "      <th>party</th>\n",
       "      <th>total_votes</th>\n",
       "      <th>votes</th>\n",
       "    </tr>\n",
       "  </thead>\n",
       "  <tbody>\n",
       "    <tr>\n",
       "      <th>0</th>\n",
       "      <td>53.055922196</td>\n",
       "      <td>6.203015847</td>\n",
       "      <td>9244CR</td>\n",
       "      <td>Beetsterzwaag, Gemeentehuis (Opsterland)</td>\n",
       "      <td>FvD</td>\n",
       "      <td>909</td>\n",
       "      <td>76</td>\n",
       "    </tr>\n",
       "    <tr>\n",
       "      <th>1</th>\n",
       "      <td>53.055922196</td>\n",
       "      <td>6.203015847</td>\n",
       "      <td>9244CR</td>\n",
       "      <td>Beetsterzwaag, Gemeentehuis (Opsterland)</td>\n",
       "      <td>VVD</td>\n",
       "      <td>909</td>\n",
       "      <td>131</td>\n",
       "    </tr>\n",
       "    <tr>\n",
       "      <th>2</th>\n",
       "      <td>53.055922196</td>\n",
       "      <td>6.203015847</td>\n",
       "      <td>9244CR</td>\n",
       "      <td>Beetsterzwaag, Gemeentehuis (Opsterland)</td>\n",
       "      <td>CDA</td>\n",
       "      <td>909</td>\n",
       "      <td>109</td>\n",
       "    </tr>\n",
       "    <tr>\n",
       "      <th>3</th>\n",
       "      <td>53.055922196</td>\n",
       "      <td>6.203015847</td>\n",
       "      <td>9244CR</td>\n",
       "      <td>Beetsterzwaag, Gemeentehuis (Opsterland)</td>\n",
       "      <td>GL</td>\n",
       "      <td>909</td>\n",
       "      <td>117</td>\n",
       "    </tr>\n",
       "    <tr>\n",
       "      <th>4</th>\n",
       "      <td>53.055922196</td>\n",
       "      <td>6.203015847</td>\n",
       "      <td>9244CR</td>\n",
       "      <td>Beetsterzwaag, Gemeentehuis (Opsterland)</td>\n",
       "      <td>PvdA</td>\n",
       "      <td>909</td>\n",
       "      <td>170</td>\n",
       "    </tr>\n",
       "  </tbody>\n",
       "</table>\n",
       "</div>"
      ],
      "text/plain": [
       "     bureau_lat   bureau_lon bureau_zip  \\\n",
       "0  53.055922196  6.203015847     9244CR   \n",
       "1  53.055922196  6.203015847     9244CR   \n",
       "2  53.055922196  6.203015847     9244CR   \n",
       "3  53.055922196  6.203015847     9244CR   \n",
       "4  53.055922196  6.203015847     9244CR   \n",
       "\n",
       "                                       label party  total_votes  votes  \n",
       "0   Beetsterzwaag, Gemeentehuis (Opsterland)   FvD          909     76  \n",
       "1   Beetsterzwaag, Gemeentehuis (Opsterland)   VVD          909    131  \n",
       "2   Beetsterzwaag, Gemeentehuis (Opsterland)   CDA          909    109  \n",
       "3   Beetsterzwaag, Gemeentehuis (Opsterland)    GL          909    117  \n",
       "4   Beetsterzwaag, Gemeentehuis (Opsterland)  PvdA          909    170  "
      ]
     },
     "execution_count": 59,
     "metadata": {},
     "output_type": "execute_result"
    }
   ],
   "source": [
    "# Define an iterator to make things easier\n",
    "def iter_votes_from_row(row):\n",
    "    for partyId, partyLabels in PARTIES.items():\n",
    "        # We can have multiple partyLabels, if we just have one, make \n",
    "        # a list of it for easier handling later on\n",
    "        if isinstance(partyLabels, str):\n",
    "            partyLabels = [ partyLabels ]\n",
    "            \n",
    "        for label in partyLabels:\n",
    "            votecount = row[label]\n",
    "            \n",
    "            # Votecount is always a string. We need to be careful here, because\n",
    "            # \"0\" is zero votes, while \"\" (an empty string) means that the \n",
    "            # party was *not* electable in this stembureau. Make sure we only \n",
    "            # yield actual votes!\n",
    "            if votecount != \"\":               \n",
    "                yield partyId, int(votecount)\n",
    "        \n",
    "# Now create the dataframe\n",
    "elections = []\n",
    "\n",
    "for row in votes.data():\n",
    "    bureau, gemeente = (row[\"bureau_label\"], row[\"gemeente\"])\n",
    "    label = f\"{bureau.replace('Stembureau', '')} ({gemeente})\"\n",
    "    \n",
    "    for party, votes in iter_votes_from_row(row):\n",
    "        elections.append({\n",
    "            \"party\" : party,\n",
    "            \"label\" : label,\n",
    "            \"votes\" : votes,\n",
    "            \"total_votes\" : int(row[\"total_counted\"]),\n",
    "            \"bureau_zip\" : row[\"bureau_zip\"],\n",
    "            \"bureau_lat\" : row.get(\"bureau_lat\", None),\n",
    "            \"bureau_lon\" : row.get(\"bureau_lon\", None)\n",
    "        })\n",
    "        \n",
    "df = pd.DataFrame(elections)\n",
    "\n",
    "# Save to a new file\n",
    "df.to_csv(OUT_PATH)\n",
    "\n",
    "# And show the first five results\n",
    "df.head()"
   ]
  },
  {
   "cell_type": "code",
   "execution_count": null,
   "metadata": {},
   "outputs": [],
   "source": []
  }
 ],
 "metadata": {
  "kernelspec": {
   "display_name": "Python 3",
   "language": "python",
   "name": "python3"
  },
  "language_info": {
   "codemirror_mode": {
    "name": "ipython",
    "version": 3
   },
   "file_extension": ".py",
   "mimetype": "text/x-python",
   "name": "python",
   "nbconvert_exporter": "python",
   "pygments_lexer": "ipython3",
   "version": "3.7.1"
  }
 },
 "nbformat": 4,
 "nbformat_minor": 2
}
